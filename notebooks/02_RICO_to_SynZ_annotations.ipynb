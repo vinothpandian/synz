{
 "cells": [
  {
   "cell_type": "code",
   "execution_count": null,
   "metadata": {
    "execution": {
     "iopub.execute_input": "2020-12-13T14:52:28.990944Z",
     "iopub.status.busy": "2020-12-13T14:52:28.989594Z",
     "iopub.status.idle": "2020-12-13T14:52:29.817233Z",
     "shell.execute_reply": "2020-12-13T14:52:29.816552Z",
     "shell.execute_reply.started": "2020-12-13T14:52:28.990625Z"
    }
   },
   "outputs": [],
   "source": [
    "from operator import itemgetter\n",
    "from pathlib import Path\n",
    "from functools import reduce\n",
    "from fastcore.foundation import *\n",
    "from datetime import datetime\n",
    "\n",
    "import cv2\n",
    "import matplotlib.pyplot as plt\n",
    "import numpy as np\n",
    "import pandas as pd\n",
    "from fastcore.utils import parallel\n",
    "from sklearn.model_selection import train_test_split\n",
    "\n",
    "from pygame import Rect\n",
    "\n",
    "plt.rcParams[\"figure.figsize\"] = 16, 9\n",
    "plt.style.use(\"dark_background\")"
   ]
  },
  {
   "cell_type": "code",
   "execution_count": null,
   "metadata": {
    "execution": {
     "iopub.execute_input": "2020-12-13T14:52:29.818382Z",
     "iopub.status.busy": "2020-12-13T14:52:29.818175Z",
     "iopub.status.idle": "2020-12-13T14:52:29.821713Z",
     "shell.execute_reply": "2020-12-13T14:52:29.821197Z",
     "shell.execute_reply.started": "2020-12-13T14:52:29.818353Z"
    }
   },
   "outputs": [],
   "source": [
    "rico_path = Path(\"/work/vinoth/Dataset/rico\")\n",
    "annotations_path = rico_path / \"rico_annotations\"\n",
    "screenshots_path = rico_path / \"combined\"\n",
    "\n",
    "dataset_path = Path(\"../data\")"
   ]
  },
  {
   "cell_type": "code",
   "execution_count": null,
   "metadata": {
    "execution": {
     "iopub.execute_input": "2020-12-13T14:52:29.927906Z",
     "iopub.status.busy": "2020-12-13T14:52:29.927678Z",
     "iopub.status.idle": "2020-12-13T14:52:29.931195Z",
     "shell.execute_reply": "2020-12-13T14:52:29.930549Z",
     "shell.execute_reply.started": "2020-12-13T14:52:29.927885Z"
    }
   },
   "outputs": [],
   "source": [
    "get_pt1 = itemgetter(\"xmin\", \"ymin\")\n",
    "get_pt2 = itemgetter(\"xmax\", \"ymax\")"
   ]
  },
  {
   "cell_type": "code",
   "execution_count": null,
   "metadata": {
    "execution": {
     "iopub.execute_input": "2020-12-13T14:52:30.732168Z",
     "iopub.status.busy": "2020-12-13T14:52:30.731953Z",
     "iopub.status.idle": "2020-12-13T14:52:30.736658Z",
     "shell.execute_reply": "2020-12-13T14:52:30.736129Z",
     "shell.execute_reply.started": "2020-12-13T14:52:30.732149Z"
    }
   },
   "outputs": [],
   "source": [
    "column_names = [\n",
    "    \"filename\",\n",
    "    \"image_width\",\n",
    "    \"image_height\",\n",
    "    \"category\",\n",
    "    \"xmin\",\n",
    "    \"ymin\",\n",
    "    \"xmax\",\n",
    "    \"ymax\",\n",
    "    \"width\",\n",
    "    \"height\",\n",
    "    \"area\",\n",
    "    \"level\",\n",
    "    \"is_parent\",\n",
    "    \"text\",\n",
    "]\n",
    "\n",
    "column_dtypes = [\n",
    "    \"string\",\n",
    "    np.int,\n",
    "    np.int,\n",
    "    \"string\",\n",
    "    np.int,\n",
    "    np.int,\n",
    "    np.int,\n",
    "    np.int,\n",
    "    np.int,\n",
    "    np.int,\n",
    "    np.int,\n",
    "    np.int,\n",
    "    bool,\n",
    "    \"string\",\n",
    "]\n",
    "\n",
    "column_dtype_map = dict(zip(column_names, column_dtypes))"
   ]
  },
  {
   "cell_type": "code",
   "execution_count": null,
   "metadata": {
    "execution": {
     "iopub.execute_input": "2020-12-13T14:52:32.730957Z",
     "iopub.status.busy": "2020-12-13T14:52:32.730241Z",
     "iopub.status.idle": "2020-12-13T14:52:32.746144Z",
     "shell.execute_reply": "2020-12-13T14:52:32.743555Z",
     "shell.execute_reply.started": "2020-12-13T14:52:32.730880Z"
    }
   },
   "outputs": [],
   "source": [
    "version_history = {}\n",
    "\n",
    "def snapshot(df, version):\n",
    "    tmstmp = datetime.now().strftime(\"%Y_%m_%d__%H_%M_%S\")\n",
    "    df.reset_index(drop=True, inplace=True)\n",
    "    filepath = dataset_path/f'{tmstmp}_snapshot_after_{version}.ft'\n",
    "    df.to_feather(filepath)\n",
    "    \n",
    "    version_history[version] = filepath\n",
    "    \n",
    "def load_snapshot(version):\n",
    "    filepath = version_history.get(version, None)\n",
    "    if filepath is None:\n",
    "        raise Exception('Version not found')\n",
    "    return pd.read_feather(filepath)"
   ]
  },
  {
   "cell_type": "code",
   "execution_count": null,
   "metadata": {},
   "outputs": [],
   "source": [
    "class ChainedAssignment:\n",
    "\n",
    "    \"\"\" Context manager to temporarily set pandas chained assignment warning. Usage:\n",
    "    \n",
    "        with ChainedAssignment():\n",
    "             blah  \n",
    "             \n",
    "        with ChainedAssignment('error'):\n",
    "             run my code and figure out which line causes the error! \n",
    "    \n",
    "    \"\"\"\n",
    "\n",
    "    def __init__(self, chained = None):\n",
    "        acceptable = [ None, 'warn','raise']\n",
    "        assert chained in acceptable, \"chained must be in \" + str(acceptable)\n",
    "        self.swcw = chained\n",
    "\n",
    "    def __enter__( self ):\n",
    "        self.saved_swcw = pd.options.mode.chained_assignment\n",
    "        pd.options.mode.chained_assignment = self.swcw\n",
    "        return self\n",
    "\n",
    "    def __exit__(self, *args):\n",
    "        pd.options.mode.chained_assignment = self.saved_swcw"
   ]
  },
  {
   "cell_type": "code",
   "execution_count": null,
   "metadata": {
    "pycharm": {
     "name": "#%%\n"
    }
   },
   "outputs": [],
   "source": [
    "def draw_bndboxes(a_df, return_img=False):\n",
    "    w, h = a_df.iloc[0, [-2,-1]].values\n",
    "    image = (np.ones((h, w, 3)) * 255).astype(np.uint8)\n",
    "    for i, annotation in a_df.iterrows():\n",
    "        pt1 = get_pt1(annotation)\n",
    "        pt2 = get_pt2(annotation)\n",
    "        x, y = pt1\n",
    "        category = str(i) + annotation.category[:3]\n",
    "        cv2.rectangle(image, pt1, pt2, (250, 20, 30), 2)\n",
    "        cv2.putText(image, category, (x, y-10), 0, 1, (250, 20, 30), 2, cv2.LINE_AA, False)\n",
    "    \n",
    "    plt.imshow(image)\n",
    "    \n",
    "    if return_img:\n",
    "        return image\n",
    "    \n",
    "    return None"
   ]
  },
  {
   "cell_type": "code",
   "execution_count": null,
   "metadata": {
    "pycharm": {
     "name": "#%%\n"
    }
   },
   "outputs": [],
   "source": [
    "def draw_bndboxes_with_rects(a_df, rects, return_img=False):\n",
    "    w, h = a_df.iloc[0, [-2,-1]].values\n",
    "    image = (np.ones((h, w, 3)) * 255).astype(np.uint8)\n",
    "    for i, annotation in a_df.iterrows():\n",
    "        pt1 = get_pt1(annotation)\n",
    "        pt2 = get_pt2(annotation)\n",
    "        x, y = pt1\n",
    "        category = str(i) + annotation.category[:3]\n",
    "        cv2.rectangle(image, pt1, pt2, (250, 20, 30), 2)\n",
    "        cv2.putText(image, category, (x, y-10), 0, 1, (250, 20, 30), 2, cv2.LINE_AA, False)\n",
    "    \n",
    "    for r in rects:\n",
    "        cv2.rectangle(image, (r.left, r.top),(r.right, r.bottom), (20, 30, 250), 2 )\n",
    "    \n",
    "    plt.imshow(image)\n",
    "    \n",
    "    if return_img:\n",
    "        return image\n",
    "    \n",
    "    return None"
   ]
  },
  {
   "cell_type": "markdown",
   "metadata": {},
   "source": [
    "# Cleanup"
   ]
  },
  {
   "cell_type": "code",
   "execution_count": null,
   "metadata": {},
   "outputs": [],
   "source": [
    "rico_annotations_df = pd.read_csv(dataset_path / \"rico_annotation_full.csv\", encoding='utf-8',low_memory=False)"
   ]
  },
  {
   "cell_type": "code",
   "execution_count": null,
   "metadata": {},
   "outputs": [],
   "source": [
    "rico_annotations_df.text = rico_annotations_df.text.fillna(\"-\")\n",
    "\n",
    "rico_annotations_df.dropna(inplace=True)"
   ]
  },
  {
   "cell_type": "code",
   "execution_count": null,
   "metadata": {},
   "outputs": [],
   "source": [
    "to_remove = rico_annotations_df.query(\"area <= 0\")\n",
    "\n",
    "rico_annotations_df.drop(index=to_remove.index, inplace=True)"
   ]
  },
  {
   "cell_type": "code",
   "execution_count": null,
   "metadata": {},
   "outputs": [],
   "source": [
    "rico_annotations_df = rico_annotations_df.astype(column_dtype_map)"
   ]
  },
  {
   "cell_type": "code",
   "execution_count": null,
   "metadata": {},
   "outputs": [],
   "source": [
    "## Because rico annotation roots are wrong!\n",
    "\n",
    "rico_annotations_df.image_width = 1440\n",
    "rico_annotations_df.image_height = 2560"
   ]
  },
  {
   "cell_type": "code",
   "execution_count": null,
   "metadata": {},
   "outputs": [],
   "source": [
    "rico_annotations_df.category.value_counts()"
   ]
  },
  {
   "cell_type": "code",
   "execution_count": null,
   "metadata": {},
   "outputs": [],
   "source": [
    "annotations_df = rico_annotations_df.copy()"
   ]
  },
  {
   "cell_type": "markdown",
   "metadata": {},
   "source": [
    "# RICO to UISketch"
   ]
  },
  {
   "cell_type": "markdown",
   "metadata": {},
   "source": [
    "## Remove redundant items"
   ]
  },
  {
   "cell_type": "code",
   "execution_count": null,
   "metadata": {},
   "outputs": [],
   "source": [
    "# Before removing items\n",
    "annotations_df.shape"
   ]
  },
  {
   "cell_type": "code",
   "execution_count": null,
   "metadata": {},
   "outputs": [],
   "source": [
    "categories_to_remove = [\"Advertisement\",\n",
    "                        \"Background Image\",\n",
    "                        \"Bottom Navigation\",\n",
    "                        \"Button Bar\",\n",
    "                        \"Date Picker\",\n",
    "                        \"List Item\",\n",
    "                        \"Map View\",\n",
    "                        \"Multi-Tab\",\n",
    "                        \"Pager Indicator\",\n",
    "                        \"Toolbar\",\n",
    "                        \"Web View\" ]"
   ]
  },
  {
   "cell_type": "code",
   "execution_count": null,
   "metadata": {},
   "outputs": [],
   "source": [
    "annotations_df = annotations_df[~annotations_df.category.isin(categories_to_remove)]\n",
    "\n",
    "# after removing items\n",
    "annotations_df.shape"
   ]
  },
  {
   "cell_type": "code",
   "execution_count": null,
   "metadata": {},
   "outputs": [],
   "source": [
    "annotations_df.category.value_counts()"
   ]
  },
  {
   "cell_type": "code",
   "execution_count": null,
   "metadata": {},
   "outputs": [],
   "source": [
    "snapshot(annotations_df, \"1\")"
   ]
  },
  {
   "cell_type": "markdown",
   "metadata": {},
   "source": [
    "## Map RICO elements to UISketch elements"
   ]
  },
  {
   "cell_type": "code",
   "execution_count": null,
   "metadata": {},
   "outputs": [],
   "source": [
    "rico_uisketch_map = {\n",
    "    \"Background Image\": \"image\",\n",
    "    \"Card\": \"card\",\n",
    "    \"Checkbox\": \"checkbox_checked\",\n",
    "    \"Drawer\": \"menu\",\n",
    "    \"Icon\": \"image\",\n",
    "    \"Image\": \"image\",\n",
    "    \"On/Off Switch\": \"switch_disabled\",\n",
    "    \"Radio Button\": \"radio_button_checked\",\n",
    "    \"Slider\": \"slider\",\n",
    "    \"Text\": \"label\",\n",
    "    \"Text Button\": \"button\",\n",
    "    \"Video\": \"image\",\n",
    "    \"Modal\": \"alert\",\n",
    "    # Set number stepper as input and split input later\n",
    "    \"Number Stepper\": \"Input\"\n",
    "}"
   ]
  },
  {
   "cell_type": "code",
   "execution_count": null,
   "metadata": {},
   "outputs": [],
   "source": [
    "annotations_df.loc[:, [\"category\"]] = annotations_df.category.apply(lambda x: rico_uisketch_map.get(x, x))"
   ]
  },
  {
   "cell_type": "markdown",
   "metadata": {},
   "source": [
    "### Equally distribute UI element states"
   ]
  },
  {
   "cell_type": "markdown",
   "metadata": {},
   "source": [
    "#### CheckBox"
   ]
  },
  {
   "cell_type": "code",
   "execution_count": null,
   "metadata": {},
   "outputs": [],
   "source": [
    "to_modify = annotations_df.query(\"category == 'checkbox_checked'\").sample(frac=0.5)\n",
    "\n",
    "condition = annotations_df.index.isin(to_modify.index)\n",
    "annotations_df.loc[condition] = annotations_df.loc[condition].replace(\"checkbox_checked\", \"checkbox_unchecked\")"
   ]
  },
  {
   "cell_type": "markdown",
   "metadata": {},
   "source": [
    "#### Switch"
   ]
  },
  {
   "cell_type": "code",
   "execution_count": null,
   "metadata": {},
   "outputs": [],
   "source": [
    "to_modify = annotations_df.query(\"category == 'switch_disabled'\").sample(frac=0.5)\n",
    "\n",
    "condition = annotations_df.index.isin(to_modify.index)\n",
    "annotations_df.loc[condition] = annotations_df.loc[condition].replace(\"switch_disabled\", \"switch_enabled\")"
   ]
  },
  {
   "cell_type": "markdown",
   "metadata": {},
   "source": [
    "#### Radio button"
   ]
  },
  {
   "cell_type": "code",
   "execution_count": null,
   "metadata": {},
   "outputs": [],
   "source": [
    "to_modify = annotations_df.query(\"category == 'radio_button_checked'\").sample(frac=0.5)\n",
    "\n",
    "condition = annotations_df.index.isin(to_modify.index)\n",
    "annotations_df.loc[condition] = annotations_df.loc[condition].replace(\"radio_button_checked\", \"radio_button_unchecked\")"
   ]
  },
  {
   "cell_type": "code",
   "execution_count": null,
   "metadata": {},
   "outputs": [],
   "source": [
    "annotations_df.category.value_counts()"
   ]
  },
  {
   "cell_type": "markdown",
   "metadata": {
    "execution": {
     "iopub.execute_input": "2020-12-02T16:27:02.737006Z",
     "iopub.status.busy": "2020-12-02T16:27:02.735883Z",
     "iopub.status.idle": "2020-12-02T16:27:02.745633Z",
     "shell.execute_reply": "2020-12-02T16:27:02.743802Z",
     "shell.execute_reply.started": "2020-12-02T16:27:02.736857Z"
    }
   },
   "source": [
    "### Modify UI elements based on area it occupies"
   ]
  },
  {
   "cell_type": "markdown",
   "metadata": {},
   "source": [
    "#### Input"
   ]
  },
  {
   "cell_type": "code",
   "execution_count": null,
   "metadata": {},
   "outputs": [],
   "source": [
    "q3 = annotations_df.query(\"category == 'Input'\").height.quantile(0.75)\n",
    "\n",
    "to_modify = annotations_df.query(f\"category == 'Input' & height > {q3}\")\n",
    "\n",
    "condition = annotations_df.index.isin(to_modify.index)\n",
    "annotations_df.loc[condition] = annotations_df.loc[condition].replace(\"Input\", \"text_area\")"
   ]
  },
  {
   "cell_type": "code",
   "execution_count": null,
   "metadata": {},
   "outputs": [],
   "source": [
    "to_modify = annotations_df.query(\"category == 'Input'\").sample(frac=0.5)\n",
    "\n",
    "condition = annotations_df.index.isin(to_modify.index)\n",
    "annotations_df.loc[condition] = annotations_df.loc[condition].replace(\"Input\", \"dropdown_menu\")\n",
    "annotations_df.loc[~condition] = annotations_df.loc[~condition].replace(\"Input\", \"text_field\")"
   ]
  },
  {
   "cell_type": "markdown",
   "metadata": {},
   "source": [
    "#### Label"
   ]
  },
  {
   "cell_type": "code",
   "execution_count": null,
   "metadata": {},
   "outputs": [],
   "source": [
    "q3 = annotations_df.query(\"category == 'label'\").height.quantile(0.75)\n",
    "\n",
    "\n",
    "to_modify = annotations_df.query(f\"category == 'label' & height > {q3} & width < height\")\n",
    "\n",
    "condition = annotations_df.index.isin(to_modify.index)\n",
    "annotations_df.loc[condition] = annotations_df.loc[condition].replace(\"label\", \"chip\")"
   ]
  },
  {
   "cell_type": "code",
   "execution_count": null,
   "metadata": {},
   "outputs": [],
   "source": [
    "annotations_df.category.value_counts()"
   ]
  },
  {
   "cell_type": "code",
   "execution_count": null,
   "metadata": {},
   "outputs": [],
   "source": [
    "snapshot(annotations_df, \"2\")"
   ]
  },
  {
   "cell_type": "markdown",
   "metadata": {},
   "source": [
    "# Drop all outlier screenshots"
   ]
  },
  {
   "cell_type": "code",
   "execution_count": null,
   "metadata": {},
   "outputs": [],
   "source": [
    "category_count_per_file = annotations_df.groupby(\"filename\")[\"category\"].count()"
   ]
  },
  {
   "cell_type": "code",
   "execution_count": null,
   "metadata": {},
   "outputs": [],
   "source": [
    "q1 = category_count_per_file.quantile(.25)\n",
    "q3 = category_count_per_file.quantile(.75)\n",
    "iqr = q3-q1\n",
    "q1, q3, iqr"
   ]
  },
  {
   "cell_type": "code",
   "execution_count": null,
   "metadata": {},
   "outputs": [],
   "source": [
    "outlier_min = q1 - 1.5 * iqr\n",
    "outlier_max = q3 + 1.5 * iqr\n",
    "outlier_min, outlier_max"
   ]
  },
  {
   "cell_type": "code",
   "execution_count": null,
   "metadata": {},
   "outputs": [],
   "source": [
    "category_count_per_file_without_outliers = category_count_per_file[category_count_per_file.between(outlier_min, outlier_max)]"
   ]
  },
  {
   "cell_type": "code",
   "execution_count": null,
   "metadata": {},
   "outputs": [],
   "source": [
    "annotations_df = annotations_df[annotations_df.filename.isin(category_count_per_file_without_outliers.index)]"
   ]
  },
  {
   "cell_type": "code",
   "execution_count": null,
   "metadata": {},
   "outputs": [],
   "source": [
    "annotations_df"
   ]
  },
  {
   "cell_type": "markdown",
   "metadata": {},
   "source": [
    "## Drop all outlier elements from each category (area and aspect_ratio)"
   ]
  },
  {
   "cell_type": "code",
   "execution_count": null,
   "metadata": {},
   "outputs": [],
   "source": [
    "with ChainedAssignment():\n",
    "    for category, df in annotations_df.groupby('category'):\n",
    "        q1 = df.area.quantile(0.25)\n",
    "        q3 = df.area.quantile(0.75)\n",
    "        iqr = q3 - q1\n",
    "        outlier_min = q1 - 1.5 * iqr\n",
    "        outlier_max = q3 + 1.5 * iqr\n",
    "        outliers_df = df[~df.area.between(outlier_min, outlier_max)]\n",
    "        print(category, \"-- Outliers to be dropped --\" , len(outliers_df))\n",
    "        annotations_df.drop(index=outliers_df.index, inplace=True)"
   ]
  },
  {
   "cell_type": "code",
   "execution_count": null,
   "metadata": {},
   "outputs": [],
   "source": [
    "annotations_df.shape"
   ]
  },
  {
   "cell_type": "markdown",
   "metadata": {
    "pycharm": {
     "name": "#%% md\n"
    }
   },
   "source": [
    "## Remove all outlier elements of aspect_ratio (except image)"
   ]
  },
  {
   "cell_type": "code",
   "execution_count": null,
   "metadata": {
    "collapsed": false,
    "jupyter": {
     "outputs_hidden": false
    },
    "pycharm": {
     "name": "#%%\n"
    }
   },
   "outputs": [],
   "source": [
    "with ChainedAssignment():\n",
    "    for category, df in annotations_df.groupby('category'):\n",
    "        if category == \"image\":\n",
    "            continue\n",
    "        aspect_ratios = df.apply(lambda row: row[\"width\"] / row[\"height\"], axis=1)\n",
    "        q1 = aspect_ratios.quantile(0.25)\n",
    "        q3 = aspect_ratios.quantile(0.75)\n",
    "        iqr = q3 - q1\n",
    "        outlier_min = q1 - 1.5 * iqr\n",
    "        outlier_max = q3 + 1.5 * iqr\n",
    "        outliers_df = df[~aspect_ratios.between(outlier_min, outlier_max)]\n",
    "        print(category, \"-- Outliers to be dropped --\" , len(outliers_df))\n",
    "        annotations_df.drop(index=outliers_df.index, inplace=True)"
   ]
  },
  {
   "cell_type": "code",
   "execution_count": null,
   "metadata": {
    "collapsed": false,
    "jupyter": {
     "outputs_hidden": false
    },
    "pycharm": {
     "name": "#%%\n"
    }
   },
   "outputs": [],
   "source": [
    "annotations_df.shape\n"
   ]
  },
  {
   "cell_type": "code",
   "execution_count": null,
   "metadata": {},
   "outputs": [],
   "source": [
    "snapshot(annotations_df, \"3\")"
   ]
  },
  {
   "cell_type": "markdown",
   "metadata": {},
   "source": [
    "# Remove Overlapping UI elements"
   ]
  },
  {
   "cell_type": "code",
   "execution_count": null,
   "metadata": {},
   "outputs": [],
   "source": [
    "annotations_df.insert(len(annotations_df.columns), 'to_keep', True)"
   ]
  },
  {
   "cell_type": "code",
   "execution_count": null,
   "metadata": {},
   "outputs": [],
   "source": [
    "def select_non_overlapping(df):\n",
    "    \n",
    "    rects = {}\n",
    "    for idx, r in df.iterrows():\n",
    "        rects[idx] = Rect(r.xmin, r.ymin, r.width, r.height)\n",
    "    \n",
    "\n",
    "    for idx, rect in rects.items():\n",
    "        if annotations_df.iloc[idx, -1] == False:\n",
    "            continue\n",
    "            \n",
    "        \n",
    "        rest = {key: value for key, value in rects.items() if key != idx}\n",
    "        collisions = rect.collidedictall(rest, 1)\n",
    "        \n",
    "        for idx, j in collisions:\n",
    "            annotations_df.iloc[idx, -1] = False"
   ]
  },
  {
   "cell_type": "code",
   "execution_count": null,
   "metadata": {},
   "outputs": [],
   "source": [
    "with ChainedAssignment():\n",
    "    for i, df in annotations_df.groupby('filename'):\n",
    "        select_non_overlapping(df)"
   ]
  },
  {
   "cell_type": "code",
   "execution_count": null,
   "metadata": {},
   "outputs": [],
   "source": [
    "to_remove = annotations_df.query(\"to_keep == False\")\n",
    "\n",
    "annotations_df.drop(index=to_remove.index, inplace=True)"
   ]
  },
  {
   "cell_type": "code",
   "execution_count": null,
   "metadata": {},
   "outputs": [],
   "source": [
    "annotations_df.drop(columns=[\"to_keep\"], inplace=True)"
   ]
  },
  {
   "cell_type": "code",
   "execution_count": null,
   "metadata": {},
   "outputs": [],
   "source": [
    "snapshot(annotations_df, \"4\")"
   ]
  },
  {
   "cell_type": "markdown",
   "metadata": {},
   "source": [
    "# Find positions for other elements"
   ]
  },
  {
   "cell_type": "code",
   "execution_count": null,
   "metadata": {},
   "outputs": [],
   "source": [
    "to_remove = annotations_df.query(\"xmax >= image_width\")\n",
    "\n",
    "annotations_df.drop(index=to_remove.index, inplace=True)"
   ]
  },
  {
   "cell_type": "code",
   "execution_count": null,
   "metadata": {},
   "outputs": [],
   "source": [
    "to_remove = annotations_df.query(\"ymax >= image_height\")\n",
    "\n",
    "annotations_df.drop(index=to_remove.index, inplace=True)"
   ]
  },
  {
   "cell_type": "markdown",
   "metadata": {},
   "source": [
    "## Tooltip positions"
   ]
  },
  {
   "cell_type": "code",
   "execution_count": null,
   "metadata": {},
   "outputs": [],
   "source": [
    "frame_rect = Rect(0, 0, 1440, 2560)\n",
    "\n",
    "def find_tooltip_pos(data):\n",
    "    filename, df, width, height = data\n",
    "    offset = 20\n",
    "    \n",
    "    rects = {}\n",
    "    for idx, r in df.iterrows():\n",
    "        rects[idx] = Rect(r.xmin, r.ymin, r.width, r.height)\n",
    "\n",
    "    candidates = {}\n",
    "    to_keep = {}\n",
    "\n",
    "    # Below\n",
    "    for idx, r in rects.items():\n",
    "        bot_tooltip_rect = Rect(r.left, r.top + r.height + offset, width, height)\n",
    "        top_tooltip_rect = Rect(r.left, r.top - height - offset, width, height)\n",
    "\n",
    "        if frame_rect.contains(bot_tooltip_rect):\n",
    "            collisions = bot_tooltip_rect.collidedictall(rects, 1)\n",
    "\n",
    "            if len(collisions) == 0:\n",
    "                candidates[idx] = bot_tooltip_rect\n",
    "                to_keep[idx] = True\n",
    "\n",
    "        if frame_rect.contains(top_tooltip_rect):\n",
    "            collisions = top_tooltip_rect.collidedictall(rects, 1)\n",
    "\n",
    "            if len(collisions) == 0:\n",
    "                candidates[idx] = top_tooltip_rect\n",
    "                to_keep[idx] = True\n",
    "\n",
    "\n",
    "    for idx, rect in candidates.items():\n",
    "        if to_keep[idx] == False:\n",
    "            continue\n",
    "\n",
    "        rest = {key: value for key, value in candidates.items() if key != idx}\n",
    "        collisions = rect.collidedictall(rest, 1)\n",
    "\n",
    "        for idx, j in collisions:\n",
    "            to_keep[idx] = False\n",
    "\n",
    "    candidates = { key: value for key, value in candidates.items() if to_keep[key]}\n",
    "\n",
    "    return filename, candidates"
   ]
  },
  {
   "cell_type": "code",
   "execution_count": null,
   "metadata": {},
   "outputs": [],
   "source": [
    "params = [(filename, a_df, 450, 300) for filename, a_df in annotations_df.groupby(\"filename\")]\n",
    "\n",
    "tooltip_f_pos = parallel(find_tooltip_pos, params)\n",
    "\n",
    "tooltip_f_pos = tooltip_f_pos.filter(lambda x: x[1] )"
   ]
  },
  {
   "cell_type": "markdown",
   "metadata": {},
   "source": [
    "### Take a sample of tooltips and merge it to annotations"
   ]
  },
  {
   "cell_type": "code",
   "execution_count": null,
   "metadata": {},
   "outputs": [],
   "source": [
    "sample_tooltip_f_pos = tooltip_f_pos.shuffle()[:3500]\n",
    "tooltip_possible_count = reduce(lambda acc, x: acc + len(x[1]), sample_tooltip_f_pos, 0)"
   ]
  },
  {
   "cell_type": "code",
   "execution_count": null,
   "metadata": {},
   "outputs": [],
   "source": [
    "def rect_to_annotation(filename, category, r, min_w, max_w, min_h, max_h):\n",
    "    w = np.random.randint(min_w, max_w)\n",
    "    h = np.random.randint(min_h, max_h)\n",
    "    data = [filename, 1440, 2560, category, r.left, r.top, r.left + w, r.top + h, w, h, w*h , 1, False, '']\n",
    "    annotation = dict(zip(column_names, data))\n",
    "    return annotation\n",
    "\n",
    "tooltip_df_data = L()\n",
    "\n",
    "for filename, rects in sample_tooltip_f_pos:\n",
    "    for r in rects.values():\n",
    "        annotation = rect_to_annotation(filename, 'tooltip', r, 350, 450, 200, 300)\n",
    "        tooltip_df_data.append(annotation)\n",
    "\n",
    "tooltip_df = pd.DataFrame(tooltip_df_data)\n",
    "\n",
    "annotations_df = pd.concat([annotations_df, tooltip_df], ignore_index=True)"
   ]
  },
  {
   "cell_type": "code",
   "execution_count": null,
   "metadata": {},
   "outputs": [],
   "source": [
    "snapshot(annotations_df, \"5_1\")"
   ]
  },
  {
   "cell_type": "markdown",
   "metadata": {},
   "source": [
    "## FAB"
   ]
  },
  {
   "cell_type": "code",
   "execution_count": null,
   "metadata": {},
   "outputs": [],
   "source": [
    "def find_free_spots(data):\n",
    "    rect, filename, a_df = data\n",
    "    rects = [Rect(r.xmin, r.ymin, r.width, r.height) for _, r in a_df.iterrows() ]\n",
    "    if rect.collidelist(rects) == -1:\n",
    "        return filename\n",
    "    \n",
    "    return None"
   ]
  },
  {
   "cell_type": "code",
   "execution_count": null,
   "metadata": {},
   "outputs": [],
   "source": [
    "fab_rect = Rect(1100, 2020, 300, 300)\n",
    "\n",
    "params = [(fab_rect, filename, a_df) for filename, a_df in annotations_df.groupby(\"filename\")]\n",
    "\n",
    "fab_filenames = parallel(find_free_spots, params)\n",
    "\n",
    "fab_filenames = fab_filenames.filter(lambda x: x is not None)"
   ]
  },
  {
   "cell_type": "code",
   "execution_count": null,
   "metadata": {},
   "outputs": [],
   "source": [
    "sample_fab_filenames = fab_filenames.shuffle()[:3500]"
   ]
  },
  {
   "cell_type": "code",
   "execution_count": null,
   "metadata": {},
   "outputs": [],
   "source": [
    "def data_to_annotation(filename, category, r, min_x, max_x, min_y, max_y, min_w, max_w, min_h, max_h):\n",
    "    while True:\n",
    "        x = np.random.randint(min_x, max_x)\n",
    "        y = np.random.randint(min_y, max_y)\n",
    "        w = np.random.randint(min_w, max_w)\n",
    "        h = np.random.randint(min_h, max_h)\n",
    "        \n",
    "        if r.contains(Rect(x,y,w,h)):\n",
    "            break\n",
    "        \n",
    "    data = [filename, 1440, 2560, category, x, y, x+w, y+h, w, h, w*h , 1, False, '']\n",
    "    annotation = dict(zip(column_names, data))\n",
    "    return annotation\n",
    "\n",
    "fab_df_data = L()\n",
    "\n",
    "for filename in sample_fab_filenames:\n",
    "    annotation = data_to_annotation(filename, 'floating_action_button', fab_rect, 1100, 1150, 2020, 2070, 250, 300, 250, 300)\n",
    "    fab_df_data.append(annotation)\n",
    "    \n",
    "fab_df = pd.DataFrame(fab_df_data)\n",
    "\n",
    "annotations_df = pd.concat([annotations_df, fab_df], ignore_index=True)"
   ]
  },
  {
   "cell_type": "code",
   "execution_count": null,
   "metadata": {},
   "outputs": [],
   "source": [
    "snapshot(annotations_df, \"5_2\")"
   ]
  },
  {
   "cell_type": "markdown",
   "metadata": {},
   "source": [
    "## Data Table & Grid List"
   ]
  },
  {
   "cell_type": "code",
   "execution_count": null,
   "metadata": {},
   "outputs": [],
   "source": [
    "dt_rect = Rect(20, 340, 1400, 1680)\n",
    "\n",
    "params = [(dt_rect, filename, a_df) for filename, a_df in annotations_df.groupby(\"filename\")]\n",
    "\n",
    "dt_gl_filenames = parallel(find_free_spots, params)\n",
    "\n",
    "dt_gl_filenames = dt_gl_filenames.filter(lambda x: x is not None)"
   ]
  },
  {
   "cell_type": "code",
   "execution_count": null,
   "metadata": {},
   "outputs": [],
   "source": [
    "sample_dt_gl_filenames = dt_gl_filenames.shuffle()[:7000]"
   ]
  },
  {
   "cell_type": "code",
   "execution_count": null,
   "metadata": {},
   "outputs": [],
   "source": [
    "dt_filenames, gl_filenames = sample_dt_gl_filenames[:3500], sample_dt_gl_filenames[3500:]"
   ]
  },
  {
   "cell_type": "code",
   "execution_count": null,
   "metadata": {},
   "outputs": [],
   "source": [
    "dt_df_data = L()\n",
    "\n",
    "for filename in dt_filenames:\n",
    "    annotation = data_to_annotation(filename, 'data_table', dt_rect, 20, 60, 340, 440, 1300, 1400, 1580, 1680)\n",
    "    dt_df_data.append(annotation)\n",
    "\n",
    "dt_df = pd.DataFrame(dt_df_data)\n",
    "\n",
    "annotations_df = pd.concat([annotations_df, dt_df], ignore_index=True)"
   ]
  },
  {
   "cell_type": "code",
   "execution_count": null,
   "metadata": {},
   "outputs": [],
   "source": [
    "gl_df_data = L()\n",
    "\n",
    "for filename in gl_filenames:\n",
    "    annotation = data_to_annotation(filename, 'grid_list', dt_rect, 20, 60, 340, 440, 1300, 1400, 1580, 1680)\n",
    "    gl_df_data.append(annotation)\n",
    "\n",
    "gl_df = pd.DataFrame(gl_df_data)\n",
    "\n",
    "annotations_df = pd.concat([annotations_df, gl_df], ignore_index=True)"
   ]
  },
  {
   "cell_type": "code",
   "execution_count": null,
   "metadata": {},
   "outputs": [],
   "source": [
    "snapshot(annotations_df, \"5\")"
   ]
  },
  {
   "cell_type": "code",
   "execution_count": null,
   "metadata": {},
   "outputs": [],
   "source": [
    "annotations_df.category.value_counts()"
   ]
  },
  {
   "cell_type": "code",
   "execution_count": null,
   "metadata": {
    "execution": {
     "iopub.execute_input": "2020-12-11T00:00:39.462290Z",
     "iopub.status.busy": "2020-12-11T00:00:39.462025Z",
     "iopub.status.idle": "2020-12-11T00:00:41.632789Z",
     "shell.execute_reply": "2020-12-11T00:00:41.630710Z",
     "shell.execute_reply.started": "2020-12-11T00:00:39.462261Z"
    }
   },
   "outputs": [],
   "source": [
    "annotations_df.to_csv(dataset_path/\"SynZ_ready_annotations_full.csv\", index=False)"
   ]
  },
  {
   "cell_type": "code",
   "execution_count": null,
   "metadata": {
    "execution": {
     "iopub.execute_input": "2020-12-11T00:01:06.488193Z",
     "iopub.status.busy": "2020-12-11T00:01:06.487944Z",
     "iopub.status.idle": "2020-12-11T00:01:06.519715Z",
     "shell.execute_reply": "2020-12-11T00:01:06.519188Z",
     "shell.execute_reply.started": "2020-12-11T00:01:06.488160Z"
    }
   },
   "outputs": [],
   "source": [
    "filenames = annotations_df.filename.unique()"
   ]
  },
  {
   "cell_type": "code",
   "execution_count": null,
   "metadata": {
    "execution": {
     "iopub.execute_input": "2020-12-11T00:02:22.698921Z",
     "iopub.status.busy": "2020-12-11T00:02:22.698685Z",
     "iopub.status.idle": "2020-12-11T00:02:22.705863Z",
     "shell.execute_reply": "2020-12-11T00:02:22.705210Z",
     "shell.execute_reply.started": "2020-12-11T00:02:22.698902Z"
    }
   },
   "outputs": [],
   "source": [
    "train_val_filenames, test_filenames = train_test_split(filenames, test_size=0.1, random_state=42)\n",
    "train_filenames, val_filenames = train_test_split(train_val_filenames, test_size=0.1, random_state=42)"
   ]
  },
  {
   "cell_type": "code",
   "execution_count": null,
   "metadata": {
    "execution": {
     "iopub.execute_input": "2020-12-11T00:02:37.072494Z",
     "iopub.status.busy": "2020-12-11T00:02:37.072267Z",
     "iopub.status.idle": "2020-12-11T00:02:37.076487Z",
     "shell.execute_reply": "2020-12-11T00:02:37.075857Z",
     "shell.execute_reply.started": "2020-12-11T00:02:37.072443Z"
    }
   },
   "outputs": [],
   "source": [
    "len(train_filenames), len(val_filenames), len(test_filenames)"
   ]
  },
  {
   "cell_type": "code",
   "execution_count": null,
   "metadata": {
    "execution": {
     "iopub.execute_input": "2020-12-11T00:04:06.612844Z",
     "iopub.status.busy": "2020-12-11T00:04:06.612625Z",
     "iopub.status.idle": "2020-12-11T00:04:06.616767Z",
     "shell.execute_reply": "2020-12-11T00:04:06.616037Z",
     "shell.execute_reply.started": "2020-12-11T00:04:06.612810Z"
    }
   },
   "outputs": [],
   "source": [
    "annotations_df.insert(1, \"train_test_valid\", \"train\")"
   ]
  },
  {
   "cell_type": "code",
   "execution_count": null,
   "metadata": {
    "execution": {
     "iopub.execute_input": "2020-12-11T00:04:44.460523Z",
     "iopub.status.busy": "2020-12-11T00:04:44.459829Z",
     "iopub.status.idle": "2020-12-11T00:04:44.498701Z",
     "shell.execute_reply": "2020-12-11T00:04:44.498020Z",
     "shell.execute_reply.started": "2020-12-11T00:04:44.460444Z"
    }
   },
   "outputs": [],
   "source": [
    "annotations_df.loc[annotations_df.filename.isin(val_filenames), \"train_test_valid\"] = \"valid\""
   ]
  },
  {
   "cell_type": "code",
   "execution_count": null,
   "metadata": {},
   "outputs": [],
   "source": [
    "annotations_df.loc[annotations_df.filename.isin(test_filenames), \"train_test_valid\"] = \"test\""
   ]
  },
  {
   "cell_type": "code",
   "execution_count": null,
   "metadata": {},
   "outputs": [],
   "source": [
    "annotations_df.train_test_valid.value_counts()"
   ]
  },
  {
   "cell_type": "code",
   "execution_count": null,
   "metadata": {
    "execution": {
     "iopub.execute_input": "2020-12-11T00:05:03.868762Z",
     "iopub.status.busy": "2020-12-11T00:05:03.868391Z",
     "iopub.status.idle": "2020-12-11T00:05:06.115555Z",
     "shell.execute_reply": "2020-12-11T00:05:06.114222Z",
     "shell.execute_reply.started": "2020-12-11T00:05:03.868719Z"
    }
   },
   "outputs": [],
   "source": [
    "annotations_df.to_csv(dataset_path/\"SynZ_ready_annotations.csv\", index=False)"
   ]
  },
  {
   "cell_type": "code",
   "execution_count": null,
   "metadata": {},
   "outputs": [],
   "source": []
  }
 ],
 "metadata": {
  "kernelspec": {
   "display_name": "Python 3",
   "language": "python",
   "name": "python3"
  },
  "language_info": {
   "codemirror_mode": {
    "name": "ipython",
    "version": 3
   },
   "file_extension": ".py",
   "mimetype": "text/x-python",
   "name": "python",
   "nbconvert_exporter": "python",
   "pygments_lexer": "ipython3",
   "version": "3.8.6-final"
  },
  "toc-autonumbering": true,
  "toc-showtags": false
 },
 "nbformat": 4,
 "nbformat_minor": 4
}