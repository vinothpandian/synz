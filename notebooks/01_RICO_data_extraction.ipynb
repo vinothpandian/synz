{
 "cells": [
  {
   "cell_type": "code",
   "execution_count": null,
   "metadata": {},
   "outputs": [],
   "source": [
    "import json\n",
    "import math\n",
    "import os\n",
    "import re\n",
    "import shutil\n",
    "from collections import defaultdict\n",
    "from operator import itemgetter\n",
    "from pathlib import Path\n",
    "from pprint import pprint\n",
    "\n",
    "import cv2\n",
    "import matplotlib.pyplot as plt\n",
    "import numpy as np\n",
    "import pandas as pd\n",
    "from fastcore.utils import parallel\n",
    "from sklearn.model_selection import train_test_split\n",
    "import seaborn as sns\n",
    "\n",
    "plt.rcParams[\"figure.figsize\"] = 16, 9\n",
    "plt.style.use(\"dark_background\")"
   ]
  },
  {
   "cell_type": "code",
   "execution_count": null,
   "metadata": {},
   "outputs": [],
   "source": [
    "rico_path = Path(\"/work/vinoth/Dataset/rico\")\n",
    "annotations_path = rico_path / \"rico_annotations\"\n",
    "screenshots_path = rico_path / \"combined\"\n",
    "\n",
    "dataset_path = Path(\"../data\")\n",
    "dataset_path.mkdir(exist_ok=True)"
   ]
  },
  {
   "cell_type": "code",
   "execution_count": null,
   "metadata": {},
   "outputs": [],
   "source": [
    "filenames = [image_path.stem for image_path in annotations_path.glob(\"**/*.png\")]"
   ]
  },
  {
   "cell_type": "code",
   "execution_count": null,
   "metadata": {},
   "outputs": [],
   "source": [
    "get_pt1 = itemgetter(\"xmin\", \"ymin\")\n",
    "get_pt2 = itemgetter(\"xmax\", \"ymax\")"
   ]
  },
  {
   "cell_type": "code",
   "execution_count": null,
   "metadata": {},
   "outputs": [],
   "source": [
    "ui_column_names = [\n",
    "    \"filename\",\n",
    "    \"root_xmin\",\n",
    "    \"root_ymin\",\n",
    "    \"root_xmax\",\n",
    "    \"root_ymax\",\n",
    "    \"root_width\",\n",
    "    \"root_height\",\n",
    "    \"root_aspect_ratio\",\n",
    "    \"root_class\",\n",
    "    \"image_width\",\n",
    "    \"image_height\",\n",
    "    \"image_aspect_ratio\",\n",
    "]\n",
    "\n",
    "column_names = [\n",
    "    \"filename\",\n",
    "    \"image_width\",\n",
    "    \"image_height\",\n",
    "    \"category\",\n",
    "    \"xmin\",\n",
    "    \"ymin\",\n",
    "    \"xmax\",\n",
    "    \"ymax\",\n",
    "    \"width\",\n",
    "    \"height\",\n",
    "    \"area\",\n",
    "    \"level\",\n",
    "    \"is_parent\",\n",
    "    \"text\",\n",
    "]\n",
    "\n",
    "column_dtypes = [\n",
    "    \"string\",\n",
    "    np.int,\n",
    "    np.int,\n",
    "    \"string\",\n",
    "    np.int,\n",
    "    np.int,\n",
    "    np.int,\n",
    "    np.int,\n",
    "    np.int,\n",
    "    np.int,\n",
    "    np.int,\n",
    "    np.int,\n",
    "    bool,\n",
    "    \"string\",\n",
    "]\n",
    "\n",
    "column_dtype_map = dict(zip(column_names, column_dtypes))"
   ]
  },
  {
   "cell_type": "code",
   "execution_count": null,
   "metadata": {},
   "outputs": [],
   "source": [
    "def get_rico_data(filename):\n",
    "    with open(annotations_path / f\"{filename}.json\", \"r\") as f:\n",
    "        data = json.load(f)\n",
    "        image_path = annotations_path / f\"{filename}.png\"\n",
    "        image = cv2.imread(str(image_path))\n",
    "        height, width, _ = image.shape\n",
    "        root_xmin, root_ymin, root_xmax, root_ymax = data.get(\"bounds\", [1, 1, 2, 2])\n",
    "        root_width = root_xmax - root_xmin\n",
    "        root_height = root_ymax - root_ymin\n",
    "\n",
    "        try:\n",
    "            root_aspect_ratio = root_width / root_height\n",
    "        except ZeroDivisionError:\n",
    "            # print(filename)\n",
    "            root_aspect_ratio = None\n",
    "\n",
    "        root_class = data[\"class\"].split(\".\")[-1]\n",
    "\n",
    "        aspect_ratio = width / height\n",
    "\n",
    "        ui_data = [\n",
    "            [\n",
    "                filename,\n",
    "                root_xmin,\n",
    "                root_ymin,\n",
    "                root_xmax,\n",
    "                root_ymax,\n",
    "                root_width,\n",
    "                root_height,\n",
    "                root_aspect_ratio,\n",
    "                root_class,\n",
    "                width,\n",
    "                height,\n",
    "                aspect_ratio,\n",
    "            ]\n",
    "        ]\n",
    "        ui_df = pd.DataFrame(ui_data, columns=ui_column_names)\n",
    "        return ui_df"
   ]
  },
  {
   "cell_type": "code",
   "execution_count": null,
   "metadata": {},
   "outputs": [],
   "source": [
    "dfs = parallel(get_rico_data, filenames[:10])\n",
    "\n",
    "rico_df = pd.concat(dfs, ignore_index=True)\n",
    "rico_df.to_csv(dataset_path/\"rico_data_full.csv\", index=False)\n",
    "\n",
    "rico_df = pd.read_csv(dataset_path / \"rico_data_full.csv\")"
   ]
  },
  {
   "cell_type": "markdown",
   "metadata": {},
   "source": [
    "# Parse annotations"
   ]
  },
  {
   "cell_type": "code",
   "execution_count": null,
   "metadata": {},
   "outputs": [],
   "source": [
    "def parse_annotation(obj):\n",
    "    arr = []\n",
    "\n",
    "    def extract(_obj, _arr, group):\n",
    "        if isinstance(_obj, dict):\n",
    "            if \"componentLabel\" in _obj.keys():\n",
    "                category = _obj.get(\"componentLabel\", \"-\")\n",
    "                x1, y1, x2, y2 = _obj[\"bounds\"]\n",
    "                xmin, ymin, xmax, ymax = _obj.get(\"bounds\", [0, 0, 0, 0])\n",
    "                text = _obj.get(\"text\", \"-\")\n",
    "                text = text if text.isascii() else \"-\"\n",
    "                width = xmax - xmin\n",
    "                height = ymax - ymin\n",
    "                area = width * height\n",
    "                level = len(group.split(\".\"))\n",
    "                is_parent = \"children\" in _obj.keys()\n",
    "\n",
    "                _arr.append(\n",
    "                    [\n",
    "                        category,\n",
    "                        xmin,\n",
    "                        ymin,\n",
    "                        xmax,\n",
    "                        ymax,\n",
    "                        width,\n",
    "                        height,\n",
    "                        area,\n",
    "                        level,\n",
    "                        is_parent,\n",
    "                        text,\n",
    "                    ]\n",
    "                )\n",
    "\n",
    "            for k, v in _obj.items():\n",
    "                if isinstance(v, (dict, list)):\n",
    "                    extract(v, _arr, group)\n",
    "        elif isinstance(_obj, list):\n",
    "            for i, item in enumerate(_obj):\n",
    "                extract(item, _arr, f\"{group}.{i+1}\")\n",
    "        return _arr\n",
    "\n",
    "    results = extract(obj, arr, \"1\")\n",
    "    return results"
   ]
  },
  {
   "cell_type": "code",
   "execution_count": null,
   "metadata": {},
   "outputs": [],
   "source": [
    "def get_annotations(filename):\n",
    "    with open(annotations_path / f\"{filename}.json\", \"r\") as f:\n",
    "        data = json.load(f)\n",
    "\n",
    "        root_width, root_height = rico_df.query(\n",
    "            f\"filename == '{filename}'\"\n",
    "        ).iloc[0, [5, 6]]\n",
    "\n",
    "        annotations = parse_annotation(data)\n",
    "\n",
    "        anno_df = pd.DataFrame(annotations, columns=column_names[3:])\n",
    "        anno_df[\"filename\"] = f\"{filename}.jpg\"\n",
    "        anno_df[\"image_width\"] = root_width\n",
    "        anno_df[\"image_height\"] = root_height\n",
    "\n",
    "        return anno_df"
   ]
  },
  {
   "cell_type": "code",
   "execution_count": null,
   "metadata": {},
   "outputs": [],
   "source": [
    "annotations = parallel(get_annotations, rico_df.filename.values)\n",
    "annotations_df = pd.concat(annotations, ignore_index=True)\n",
    "\n",
    "annotations_df.astype(column_dtype_map)"
   ]
  },
  {
   "cell_type": "code",
   "execution_count": null,
   "metadata": {},
   "outputs": [],
   "source": [
    "annotations_df.to_csv(dataset_path/\"rico_annotation_full.csv\", index=False, encoding='utf-8')"
   ]
  },
  {
   "cell_type": "code",
   "execution_count": null,
   "metadata": {
    "pycharm": {
     "name": "#%%\n"
    }
   },
   "outputs": [],
   "source": [
    "def draw_bndboxes(filename, return_img=False):\n",
    "    test_image_file = screenshots_path / f\"{filename}.jpg\"\n",
    "\n",
    "    image = cv2.imread(test_image_file.as_posix())\n",
    "    image = cv2.resize(image, (1440, 2560))\n",
    "    a_df = annotations_df[annotations_df[\"filename\"] == f\"{filename}.jpg\"]\n",
    "    for i, annotation in a_df.iterrows():\n",
    "        pt1 = get_pt1(annotation)\n",
    "        pt2 = get_pt2(annotation)\n",
    "        x, y = pt1\n",
    "        category = annotation.category\n",
    "        cv2.rectangle(image, pt1, pt2, (250, 20, 30), 2)\n",
    "    #         cv2.putText(image, category, (x, y-10), 0, 1, (250, 20, 30), 2, cv2.LINE_AA, False\n",
    "    \n",
    "    plt.imshow(image)\n",
    "\n",
    "\n",
    "draw_bndboxes(9990, True)"
   ]
  },
  {
   "cell_type": "code",
   "execution_count": null,
   "metadata": {},
   "outputs": [],
   "source": [
    "annotations_df"
   ]
  },
  {
   "cell_type": "code",
   "execution_count": null,
   "metadata": {},
   "outputs": [],
   "source": []
  }
 ],
 "metadata": {
  "kernelspec": {
   "display_name": "Python 3",
   "language": "python",
   "name": "python3"
  },
  "language_info": {
   "codemirror_mode": {
    "name": "ipython",
    "version": 3
   },
   "file_extension": ".py",
   "mimetype": "text/x-python",
   "name": "python",
   "nbconvert_exporter": "python",
   "pygments_lexer": "ipython3",
   "version": "3.8.6"
  }
 },
 "nbformat": 4,
 "nbformat_minor": 4
}